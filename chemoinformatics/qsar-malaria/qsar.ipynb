{
 "cells": [
  {
   "cell_type": "code",
   "execution_count": 1,
   "metadata": {
    "collapsed": false
   },
   "outputs": [],
   "source": [
    "%matplotlib inline\n",
    "import pickle\n",
    "import pandas as pd\n",
    "import numpy as np\n",
    "from rdkit.Chem import AllChem\n",
    "from rdkit.Chem import Descriptors\n",
    "from sklearn.preprocessing import StandardScaler\n",
    "from sklearn.decomposition import PCA\n",
    "from sklearn.feature_selection import VarianceThreshold, RFECV, SelectFromModel\n",
    "from sklearn.svm import SVR\n",
    "from sklearn.cross_validation import KFold\n",
    "from sklearn.ensemble import ExtraTreesRegressor, RandomForestRegressor\n",
    "from sklearn.linear_model import ARDRegression, BayesianRidge, LinearRegression, \\\n",
    "LogisticRegression, SGDRegressor, TheilSenRegressor\n",
    "from sklearn.metrics import mean_absolute_error, mean_squared_error, r2_score, explained_variance_score\n",
    "from matplotlib import pyplot as plt\n",
    "from pprint import pprint"
   ]
  },
  {
   "cell_type": "code",
   "execution_count": 2,
   "metadata": {
    "collapsed": false
   },
   "outputs": [],
   "source": [
    "data_1 = pd.read_csv(\"data/bioactivity-16_9-10-12.txt\", sep=\"\\t\")\n",
    "data_2 = pd.read_csv(\"data/malaria-osdd-16 9-10-05.txt\", sep=\"\\t\")"
   ]
  },
  {
   "cell_type": "code",
   "execution_count": 3,
   "metadata": {
    "collapsed": false
   },
   "outputs": [],
   "source": [
    "# we want these columns from data_1: CANONICAL_SMILES, STANDARD_VALUE, STANDARD_UNITS\n",
    "data_1 = data_1[[\"CMPD_CHEMBLID\", \"CANONICAL_SMILES\", \"STANDARD_VALUE\", \"STANDARD_UNITS\"]]\n",
    "# we want these columns from data_2: CANONICAL_SMILES, A1_STANDARD_VALUE, A1_STANDARD_UNITS\n",
    "data_2 = data_2[[\"CHEMBLID\", \"CANONICAL_SMILES\", \"A1_STANDARD_VALUE\", \"A1_STANDARD_UNITS\"]]"
   ]
  },
  {
   "cell_type": "code",
   "execution_count": 4,
   "metadata": {
    "collapsed": false
   },
   "outputs": [
    {
     "data": {
      "text/plain": [
       "1101"
      ]
     },
     "execution_count": 4,
     "metadata": {},
     "output_type": "execute_result"
    }
   ],
   "source": [
    "non_feature_colnames = [\"chembl_id\", \"smiles\", \"activity_value\", \"activity_units\"]\n",
    "data_1.columns = data_2.columns = non_feature_colnames\n",
    "# concat both tables\n",
    "data = pd.concat([data_1, data_2])\n",
    "len(data)"
   ]
  },
  {
   "cell_type": "code",
   "execution_count": 5,
   "metadata": {
    "collapsed": false
   },
   "outputs": [
    {
     "data": {
      "text/plain": [
       "991"
      ]
     },
     "execution_count": 5,
     "metadata": {},
     "output_type": "execute_result"
    }
   ],
   "source": [
    "# remove duplicated ligands by Chembl ID\n",
    "data = data.drop_duplicates(subset=\"chembl_id\")\n",
    "len(data)"
   ]
  },
  {
   "cell_type": "code",
   "execution_count": 6,
   "metadata": {
    "collapsed": false
   },
   "outputs": [
    {
     "data": {
      "text/html": [
       "<div>\n",
       "<table border=\"1\" class=\"dataframe\">\n",
       "  <thead>\n",
       "    <tr style=\"text-align: right;\">\n",
       "      <th></th>\n",
       "      <th>chembl_id</th>\n",
       "      <th>smiles</th>\n",
       "      <th>activity_value</th>\n",
       "      <th>activity_units</th>\n",
       "    </tr>\n",
       "  </thead>\n",
       "  <tbody>\n",
       "    <tr>\n",
       "      <th>0</th>\n",
       "      <td>CHEMBL3219907</td>\n",
       "      <td>CCN1CCN(CC1)c2nc(Nc3ccc(Nc4ccnc5cc(Cl)ccc45)cc...</td>\n",
       "      <td>0.00211</td>\n",
       "      <td>ug.mL-1</td>\n",
       "    </tr>\n",
       "    <tr>\n",
       "      <th>9</th>\n",
       "      <td>CHEMBL2088548</td>\n",
       "      <td>C[C@@H]1CC[C@H]2[C@@H](C)[C@H](OC(=O)CCC(=O)NC...</td>\n",
       "      <td>0.30000</td>\n",
       "      <td>nM</td>\n",
       "    </tr>\n",
       "    <tr>\n",
       "      <th>127</th>\n",
       "      <td>CHEMBL3410086</td>\n",
       "      <td>CC(C)C[C@H](NC(=O)N1CCOCC1)c2occ(n2)C(=O)N[C@@...</td>\n",
       "      <td>NaN</td>\n",
       "      <td>NaN</td>\n",
       "    </tr>\n",
       "  </tbody>\n",
       "</table>\n",
       "</div>"
      ],
      "text/plain": [
       "         chembl_id                                             smiles  \\\n",
       "0    CHEMBL3219907  CCN1CCN(CC1)c2nc(Nc3ccc(Nc4ccnc5cc(Cl)ccc45)cc...   \n",
       "9    CHEMBL2088548  C[C@@H]1CC[C@H]2[C@@H](C)[C@H](OC(=O)CCC(=O)NC...   \n",
       "127  CHEMBL3410086  CC(C)C[C@H](NC(=O)N1CCOCC1)c2occ(n2)C(=O)N[C@@...   \n",
       "\n",
       "     activity_value activity_units  \n",
       "0           0.00211        ug.mL-1  \n",
       "9           0.30000             nM  \n",
       "127             NaN            NaN  "
      ]
     },
     "execution_count": 6,
     "metadata": {},
     "output_type": "execute_result"
    }
   ],
   "source": [
    "data.drop_duplicates(subset=\"activity_units\")"
   ]
  },
  {
   "cell_type": "code",
   "execution_count": 7,
   "metadata": {
    "collapsed": false
   },
   "outputs": [],
   "source": [
    "# we want to drop rows with NaN activity value and convert ug.mL-1 activity units to nM\n",
    "data = data[~np.isnan(data.activity_value)]"
   ]
  },
  {
   "cell_type": "code",
   "execution_count": 8,
   "metadata": {
    "collapsed": false
   },
   "outputs": [],
   "source": [
    "# add RDKit mol objects\n",
    "data[\"rdmol\"] = data.smiles.apply(AllChem.MolFromSmiles)\n",
    "non_feature_colnames.append(\"rdmol\")"
   ]
  },
  {
   "cell_type": "code",
   "execution_count": 9,
   "metadata": {
    "collapsed": false
   },
   "outputs": [],
   "source": [
    "def convert_units(row):\n",
    "    if row[\"activity_units\"] == \"ug.mL-1\":\n",
    "        amount = row[\"activity_value\"]\n",
    "        # convert ug/ml to g/dm3\n",
    "        # 1 ug = 10e-6 g, 1 ml = 10e-3\n",
    "        # 10e-6/10e-3 = 10e-3\n",
    "        amount = amount * 1e-3\n",
    "        # now convert amount to nanomol/dm3 = nM\n",
    "        row[\"activity_value\"] = (amount/AllChem.CalcExactMolWt(row[\"rdmol\"]))*1e9\n",
    "        row[\"activity_units\"] = \"nM\"\n",
    "    return row\n",
    "data = data.apply(convert_units, axis=1)"
   ]
  },
  {
   "cell_type": "code",
   "execution_count": 10,
   "metadata": {
    "collapsed": false
   },
   "outputs": [
    {
     "data": {
      "text/plain": [
       "<matplotlib.axes._subplots.AxesSubplot at 0x7f4d132013c8>"
      ]
     },
     "execution_count": 10,
     "metadata": {},
     "output_type": "execute_result"
    },
    {
     "data": {
      "image/png": "[encoded data removed]",
      "text/plain": [
       "<matplotlib.figure.Figure at 0x7f4d14466ba8>"
      ]
     },
     "metadata": {},
     "output_type": "display_data"
    }
   ],
   "source": [
    "data.activity_value.hist()"
   ]
  },
  {
   "cell_type": "code",
   "execution_count": 11,
   "metadata": {
    "collapsed": false
   },
   "outputs": [],
   "source": [
    "for name, f in Descriptors.descList:\n",
    "    data[name] = data.rdmol.apply(f)"
   ]
  },
  {
   "cell_type": "code",
   "execution_count": 12,
   "metadata": {
    "collapsed": false
   },
   "outputs": [],
   "source": [
    "features = np.asarray(data.drop(non_feature_colnames, axis=1))\n",
    "activities = np.asarray(data.activity_value)"
   ]
  },
  {
   "cell_type": "code",
   "execution_count": 13,
   "metadata": {
    "collapsed": false
   },
   "outputs": [
    {
     "data": {
      "text/plain": [
       "(932, 196)"
      ]
     },
     "execution_count": 13,
     "metadata": {},
     "output_type": "execute_result"
    }
   ],
   "source": [
    "features.shape"
   ]
  },
  {
   "cell_type": "code",
   "execution_count": 14,
   "metadata": {
    "collapsed": true
   },
   "outputs": [],
   "source": [
    "# remove descriptors with zero variance (= same values for all ligands)\n",
    "features = VarianceThreshold(threshold=0.0).fit_transform(features)"
   ]
  },
  {
   "cell_type": "code",
   "execution_count": 15,
   "metadata": {
    "collapsed": false
   },
   "outputs": [
    {
     "data": {
      "text/plain": [
       "(932, 172)"
      ]
     },
     "execution_count": 15,
     "metadata": {},
     "output_type": "execute_result"
    }
   ],
   "source": [
    "features.shape"
   ]
  },
  {
   "cell_type": "code",
   "execution_count": 16,
   "metadata": {
    "collapsed": false
   },
   "outputs": [],
   "source": [
    "#svr = SVR(kernel=\"poly\")\n",
    "#rfecv = RFECV(estimator=svr,\n",
    "#              step=1,\n",
    "#              cv=KFold(len(activities), n_folds=10, random_state=1),\n",
    "#              scoring='accuracy')\n",
    "#rfecv.fit(features, activities)"
   ]
  },
  {
   "cell_type": "code",
   "execution_count": 17,
   "metadata": {
    "collapsed": false
   },
   "outputs": [
    {
     "data": {
      "text/plain": [
       "(932, 21)"
      ]
     },
     "execution_count": 17,
     "metadata": {},
     "output_type": "execute_result"
    }
   ],
   "source": [
    "# feature selection with multiple Decision Trees\n",
    "#clf = ExtraTreesRegressor(n_estimators=100).fit(features, activities)\n",
    "clf = ExtraTreesRegressor(n_estimators=100, random_state=1).fit(features, activities)\n",
    "model = SelectFromModel(clf, prefit=True)\n",
    "features_fs = model.transform(features)\n",
    "features_fs.shape"
   ]
  },
  {
   "cell_type": "code",
   "execution_count": 18,
   "metadata": {
    "collapsed": false
   },
   "outputs": [
    {
     "data": {
      "text/plain": [
       "['MinAbsEStateIndex',\n",
       " 'MolWt',\n",
       " 'Chi4v',\n",
       " 'PEOE_VSA1',\n",
       " 'PEOE_VSA11',\n",
       " 'PEOE_VSA4',\n",
       " 'SMR_VSA5',\n",
       " 'SMR_VSA7',\n",
       " 'SlogP_VSA6',\n",
       " 'EState_VSA1',\n",
       " 'VSA_EState5',\n",
       " 'VSA_EState6',\n",
       " 'VSA_EState9',\n",
       " 'NumAromaticHeterocycles',\n",
       " 'fr_Ar_N',\n",
       " 'fr_NH0',\n",
       " 'fr_amide',\n",
       " 'fr_diazo',\n",
       " 'fr_dihydropyridine',\n",
       " 'fr_epoxide',\n",
       " 'fr_nitro_arom']"
      ]
     },
     "execution_count": 18,
     "metadata": {},
     "output_type": "execute_result"
    }
   ],
   "source": [
    "# descriptors after feature selection\n",
    "list(np.array(Descriptors.descList)[model.get_support(indices=True)][:, 0])"
   ]
  },
  {
   "cell_type": "code",
   "execution_count": 19,
   "metadata": {
    "collapsed": false
   },
   "outputs": [],
   "source": [
    "# standardize features\n",
    "features = StandardScaler().fit_transform(features)\n",
    "features_fs = StandardScaler().fit_transform(features_fs)"
   ]
  },
  {
   "cell_type": "code",
   "execution_count": 20,
   "metadata": {
    "collapsed": false
   },
   "outputs": [],
   "source": [
    "regressors = {\"SVR\": SVR(kernel=\"poly\"),\n",
    "              \"ExtraTreesRegressor\": ExtraTreesRegressor(n_estimators=100, n_jobs=-1),\n",
    "              \"RandomForestRegressor\": RandomForestRegressor(n_estimators=100, n_jobs=-1),\n",
    "              \"ARDRegression\": ARDRegression(),\n",
    "              \"BayesianRidge\": BayesianRidge(),\n",
    "              \"LinearRegression\": LinearRegression(n_jobs=-1),\n",
    "              \"SGDRegressor\": SGDRegressor(),\n",
    "              \"TheilSenRegressor\": TheilSenRegressor(n_jobs=-1)\n",
    "             }"
   ]
  },
  {
   "cell_type": "code",
   "execution_count": 21,
   "metadata": {
    "collapsed": true
   },
   "outputs": [],
   "source": [
    "# 10-fold cross-validation\n",
    "cv = KFold(len(activities), n_folds=10, random_state=1)"
   ]
  },
  {
   "cell_type": "code",
   "execution_count": 22,
   "metadata": {
    "collapsed": false
   },
   "outputs": [],
   "source": [
    "def train_test_score(regressor, features, activities, cv):\n",
    "    scores = {\n",
    "            \"mean_absolute_error_list\": [],\n",
    "            \"mean_squared_error_list\": [],\n",
    "            \"r2_score_list\": [],\n",
    "            \"explained_variance_score_list\": []\n",
    "        }\n",
    "    \n",
    "    for train_index, test_index in cv:\n",
    "        X_train, X_test = features[train_index], features[test_index]\n",
    "        y_train, y_test = activities[train_index], activities[test_index]\n",
    "        predicted = regressor.fit(X_train, y_train).predict(X_test)\n",
    "        \n",
    "        scores[\"mean_absolute_error_list\"].append(mean_absolute_error(y_test, predicted))\n",
    "        scores[\"mean_squared_error_list\"].append(mean_squared_error(y_test, predicted))\n",
    "        scores[\"r2_score_list\"].append(r2_score(y_test, predicted))\n",
    "        scores[\"explained_variance_score_list\"].append(explained_variance_score(y_test, predicted))\n",
    "        \n",
    "    scores[\"mean_absolute_error_mean\"] = np.mean(scores[\"mean_absolute_error_list\"])\n",
    "    scores[\"mean_squared_error_mean\"] = np.mean(scores[\"mean_squared_error_list\"])\n",
    "    \n",
    "    r2_scores = np.array(scores[\"r2_score_list\"])\n",
    "    scores[\"r2_score_mean\"] = np.mean(r2_scores[(r2_scores >= -1.0) & (r2_scores <= 1.0)])\n",
    "    \n",
    "    evs_scores = np.array(scores[\"explained_variance_score_list\"])\n",
    "    scores[\"explained_variance_score_mean\"] = np.mean(evs_scores[(evs_scores >= -1.0) & (evs_scores <= 1.0)])\n",
    "    return scores"
   ]
  },
  {
   "cell_type": "code",
   "execution_count": 23,
   "metadata": {
    "collapsed": true
   },
   "outputs": [],
   "source": [
    "def format_float(f, acc=\".2f\"):\n",
    "    return (\"{:\" + acc + \"}\").format(f)"
   ]
  },
  {
   "cell_type": "code",
   "execution_count": 24,
   "metadata": {
    "collapsed": true
   },
   "outputs": [],
   "source": [
    "def write_score(file, method_name=None, score=None, only_header=False):\n",
    "    if only_header:\n",
    "        with open(file, mode=\"w\", encoding=\"utf-8\") as f:\n",
    "            f.write(\"{},{},{},{},{}\\n\".format(\"model\",\n",
    "                                           \"mean_absolute_error\",\n",
    "                                           \"mean_squared_error\",\n",
    "                                           \"r2_score\",\n",
    "                                           \"explained_variance_score\"))\n",
    "    else:\n",
    "        with open(file, mode=\"a\", encoding=\"utf-8\") as f:\n",
    "            f.write(\"{},{},{},{},{}\\n\".format(method_name,\n",
    "                                           format_float(score[\"mean_absolute_error_mean\"]),\n",
    "                                           format_float(score[\"mean_squared_error_mean\"]),\n",
    "                                           format_float(score[\"r2_score_mean\"]),\n",
    "                                           format_float(score[\"explained_variance_score_mean\"])\n",
    "                                          ))"
   ]
  },
  {
   "cell_type": "code",
   "execution_count": 25,
   "metadata": {
    "collapsed": false
   },
   "outputs": [
    {
     "name": "stdout",
     "output_type": "stream",
     "text": [
      "\n",
      "Starting model: LinearRegression\n",
      "LinearRegression done!\n",
      "\n",
      "Starting model: RandomForestRegressor\n",
      "RandomForestRegressor done!\n",
      "\n",
      "Starting model: TheilSenRegressor\n",
      "TheilSenRegressor done!\n",
      "\n",
      "Starting model: ExtraTreesRegressor\n",
      "ExtraTreesRegressor done!\n",
      "\n",
      "Starting model: BayesianRidge\n",
      "BayesianRidge done!\n",
      "\n",
      "Starting model: SGDRegressor\n",
      "SGDRegressor done!\n",
      "\n",
      "Starting model: SVR\n",
      "SVR done!\n",
      "\n",
      "Starting model: ARDRegression\n",
      "ARDRegression done!\n"
     ]
    }
   ],
   "source": [
    "# train and test on not feature selected descriptors (172)\n",
    "file = \"output/scores.txt\"\n",
    "write_score(file, only_header=True)\n",
    "for reg in regressors.keys():\n",
    "    print(\"\\nStarting model:\", reg)\n",
    "    score = train_test_score(regressors[reg], features, activities, cv)\n",
    "    write_score(file,\n",
    "                method_name=reg,\n",
    "                score=score)\n",
    "    print(reg, \"done!\")"
   ]
  },
  {
   "cell_type": "code",
   "execution_count": 26,
   "metadata": {
    "collapsed": false
   },
   "outputs": [
    {
     "name": "stdout",
     "output_type": "stream",
     "text": [
      "\n",
      "Starting model: LinearRegression\n",
      "LinearRegression done!\n",
      "\n",
      "Starting model: RandomForestRegressor\n",
      "RandomForestRegressor done!\n",
      "\n",
      "Starting model: TheilSenRegressor\n",
      "TheilSenRegressor done!\n",
      "\n",
      "Starting model: ExtraTreesRegressor\n",
      "ExtraTreesRegressor done!\n",
      "\n",
      "Starting model: BayesianRidge\n",
      "BayesianRidge done!\n",
      "\n",
      "Starting model: SGDRegressor\n",
      "SGDRegressor done!\n",
      "\n",
      "Starting model: SVR\n",
      "SVR done!\n",
      "\n",
      "Starting model: ARDRegression\n",
      "ARDRegression done!\n"
     ]
    }
   ],
   "source": [
    "# train and test on feature selected descriptors (21)\n",
    "file = \"output/scores_fs.txt\"\n",
    "write_score(file, only_header=True)\n",
    "for reg in regressors.keys():\n",
    "    print(\"\\nStarting model:\", reg)\n",
    "    score = train_test_score(regressors[reg], features_fs, activities, cv)\n",
    "    write_score(file,\n",
    "                method_name=reg,\n",
    "                score=score)\n",
    "    print(reg, \"done!\")"
   ]
  },
  {
   "cell_type": "code",
   "execution_count": 27,
   "metadata": {
    "collapsed": false
   },
   "outputs": [
    {
     "data": {
      "text/html": [
       "<div>\n",
       "<table border=\"1\" class=\"dataframe\">\n",
       "  <thead>\n",
       "    <tr style=\"text-align: right;\">\n",
       "      <th></th>\n",
       "      <th>model</th>\n",
       "      <th>mean_absolute_error</th>\n",
       "      <th>mean_squared_error</th>\n",
       "      <th>r2_score</th>\n",
       "      <th>explained_variance_score</th>\n",
       "    </tr>\n",
       "  </thead>\n",
       "  <tbody>\n",
       "    <tr>\n",
       "      <th>0</th>\n",
       "      <td>LinearRegression</td>\n",
       "      <td>1.168151e+17</td>\n",
       "      <td>1669448277133099802631438716658253824.00</td>\n",
       "      <td>0.54</td>\n",
       "      <td>0.54</td>\n",
       "    </tr>\n",
       "    <tr>\n",
       "      <th>1</th>\n",
       "      <td>RandomForestRegressor</td>\n",
       "      <td>1.741619e+05</td>\n",
       "      <td>1453044499517.47</td>\n",
       "      <td>0.63</td>\n",
       "      <td>0.64</td>\n",
       "    </tr>\n",
       "    <tr>\n",
       "      <th>2</th>\n",
       "      <td>TheilSenRegressor</td>\n",
       "      <td>2.026827e+06</td>\n",
       "      <td>1268175652947446.50</td>\n",
       "      <td>0.22</td>\n",
       "      <td>0.23</td>\n",
       "    </tr>\n",
       "    <tr>\n",
       "      <th>3</th>\n",
       "      <td>ExtraTreesRegressor</td>\n",
       "      <td>1.558477e+05</td>\n",
       "      <td>1809196249295.19</td>\n",
       "      <td>0.48</td>\n",
       "      <td>0.49</td>\n",
       "    </tr>\n",
       "    <tr>\n",
       "      <th>4</th>\n",
       "      <td>BayesianRidge</td>\n",
       "      <td>5.031153e+05</td>\n",
       "      <td>5626110965428.02</td>\n",
       "      <td>-0.01</td>\n",
       "      <td>0.00</td>\n",
       "    </tr>\n",
       "    <tr>\n",
       "      <th>5</th>\n",
       "      <td>SGDRegressor</td>\n",
       "      <td>7.333099e+05</td>\n",
       "      <td>2077860248300.58</td>\n",
       "      <td>0.56</td>\n",
       "      <td>0.56</td>\n",
       "    </tr>\n",
       "    <tr>\n",
       "      <th>6</th>\n",
       "      <td>SVR</td>\n",
       "      <td>2.697400e+05</td>\n",
       "      <td>5685003036600.71</td>\n",
       "      <td>-0.03</td>\n",
       "      <td>0.00</td>\n",
       "    </tr>\n",
       "    <tr>\n",
       "      <th>7</th>\n",
       "      <td>ARDRegression</td>\n",
       "      <td>5.031153e+05</td>\n",
       "      <td>5626110965757.66</td>\n",
       "      <td>-0.01</td>\n",
       "      <td>0.00</td>\n",
       "    </tr>\n",
       "  </tbody>\n",
       "</table>\n",
       "</div>"
      ],
      "text/plain": [
       "                   model  mean_absolute_error  \\\n",
       "0       LinearRegression         1.168151e+17   \n",
       "1  RandomForestRegressor         1.741619e+05   \n",
       "2      TheilSenRegressor         2.026827e+06   \n",
       "3    ExtraTreesRegressor         1.558477e+05   \n",
       "4          BayesianRidge         5.031153e+05   \n",
       "5           SGDRegressor         7.333099e+05   \n",
       "6                    SVR         2.697400e+05   \n",
       "7          ARDRegression         5.031153e+05   \n",
       "\n",
       "                         mean_squared_error  r2_score  \\\n",
       "0  1669448277133099802631438716658253824.00      0.54   \n",
       "1                          1453044499517.47      0.63   \n",
       "2                       1268175652947446.50      0.22   \n",
       "3                          1809196249295.19      0.48   \n",
       "4                          5626110965428.02     -0.01   \n",
       "5                          2077860248300.58      0.56   \n",
       "6                          5685003036600.71     -0.03   \n",
       "7                          5626110965757.66     -0.01   \n",
       "\n",
       "   explained_variance_score  \n",
       "0                      0.54  \n",
       "1                      0.64  \n",
       "2                      0.23  \n",
       "3                      0.49  \n",
       "4                      0.00  \n",
       "5                      0.56  \n",
       "6                      0.00  \n",
       "7                      0.00  "
      ]
     },
     "execution_count": 27,
     "metadata": {},
     "output_type": "execute_result"
    }
   ],
   "source": [
    "# scores without feature selection\n",
    "pd.read_csv(\"output/scores.txt\", sep=\",\")"
   ]
  },
  {
   "cell_type": "code",
   "execution_count": 28,
   "metadata": {
    "collapsed": false
   },
   "outputs": [
    {
     "data": {
      "text/html": [
       "<div>\n",
       "<table border=\"1\" class=\"dataframe\">\n",
       "  <thead>\n",
       "    <tr style=\"text-align: right;\">\n",
       "      <th></th>\n",
       "      <th>model</th>\n",
       "      <th>mean_absolute_error</th>\n",
       "      <th>mean_squared_error</th>\n",
       "      <th>r2_score</th>\n",
       "      <th>explained_variance_score</th>\n",
       "    </tr>\n",
       "  </thead>\n",
       "  <tbody>\n",
       "    <tr>\n",
       "      <th>0</th>\n",
       "      <td>LinearRegression</td>\n",
       "      <td>601129.16</td>\n",
       "      <td>2.352466e+12</td>\n",
       "      <td>0.55</td>\n",
       "      <td>0.56</td>\n",
       "    </tr>\n",
       "    <tr>\n",
       "      <th>1</th>\n",
       "      <td>RandomForestRegressor</td>\n",
       "      <td>124293.73</td>\n",
       "      <td>9.713637e+11</td>\n",
       "      <td>0.72</td>\n",
       "      <td>0.74</td>\n",
       "    </tr>\n",
       "    <tr>\n",
       "      <th>2</th>\n",
       "      <td>TheilSenRegressor</td>\n",
       "      <td>275437.43</td>\n",
       "      <td>5.571079e+12</td>\n",
       "      <td>0.00</td>\n",
       "      <td>0.02</td>\n",
       "    </tr>\n",
       "    <tr>\n",
       "      <th>3</th>\n",
       "      <td>ExtraTreesRegressor</td>\n",
       "      <td>116647.37</td>\n",
       "      <td>9.605402e+11</td>\n",
       "      <td>0.73</td>\n",
       "      <td>0.74</td>\n",
       "    </tr>\n",
       "    <tr>\n",
       "      <th>4</th>\n",
       "      <td>BayesianRidge</td>\n",
       "      <td>503115.27</td>\n",
       "      <td>5.626111e+12</td>\n",
       "      <td>-0.01</td>\n",
       "      <td>0.00</td>\n",
       "    </tr>\n",
       "    <tr>\n",
       "      <th>5</th>\n",
       "      <td>SGDRegressor</td>\n",
       "      <td>612013.58</td>\n",
       "      <td>2.310379e+12</td>\n",
       "      <td>0.59</td>\n",
       "      <td>0.60</td>\n",
       "    </tr>\n",
       "    <tr>\n",
       "      <th>6</th>\n",
       "      <td>SVR</td>\n",
       "      <td>269667.73</td>\n",
       "      <td>5.682289e+12</td>\n",
       "      <td>-0.03</td>\n",
       "      <td>0.01</td>\n",
       "    </tr>\n",
       "    <tr>\n",
       "      <th>7</th>\n",
       "      <td>ARDRegression</td>\n",
       "      <td>503115.27</td>\n",
       "      <td>5.626111e+12</td>\n",
       "      <td>-0.01</td>\n",
       "      <td>0.00</td>\n",
       "    </tr>\n",
       "  </tbody>\n",
       "</table>\n",
       "</div>"
      ],
      "text/plain": [
       "                   model  mean_absolute_error  mean_squared_error  r2_score  \\\n",
       "0       LinearRegression            601129.16        2.352466e+12      0.55   \n",
       "1  RandomForestRegressor            124293.73        9.713637e+11      0.72   \n",
       "2      TheilSenRegressor            275437.43        5.571079e+12      0.00   \n",
       "3    ExtraTreesRegressor            116647.37        9.605402e+11      0.73   \n",
       "4          BayesianRidge            503115.27        5.626111e+12     -0.01   \n",
       "5           SGDRegressor            612013.58        2.310379e+12      0.59   \n",
       "6                    SVR            269667.73        5.682289e+12     -0.03   \n",
       "7          ARDRegression            503115.27        5.626111e+12     -0.01   \n",
       "\n",
       "   explained_variance_score  \n",
       "0                      0.56  \n",
       "1                      0.74  \n",
       "2                      0.02  \n",
       "3                      0.74  \n",
       "4                      0.00  \n",
       "5                      0.60  \n",
       "6                      0.01  \n",
       "7                      0.00  "
      ]
     },
     "execution_count": 28,
     "metadata": {},
     "output_type": "execute_result"
    }
   ],
   "source": [
    "# scores with feature selection\n",
    "pd.read_csv(\"output/scores_fs.txt\", sep=\",\")"
   ]
  }
 ],
 "metadata": {
  "kernelspec": {
   "display_name": "Python 3",
   "language": "python",
   "name": "python3"
  },
  "language_info": {
   "codemirror_mode": {
    "name": "ipython",
    "version": 3
   },
   "file_extension": ".py",
   "mimetype": "text/x-python",
   "name": "python",
   "nbconvert_exporter": "python",
   "pygments_lexer": "ipython3",
   "version": "3.5.1"
  }
 },
 "nbformat": 4,
 "nbformat_minor": 0
}
